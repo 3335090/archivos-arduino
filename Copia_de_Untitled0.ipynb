{
  "nbformat": 4,
  "nbformat_minor": 0,
  "metadata": {
    "colab": {
      "name": "Copia de Untitled0.ipynb",
      "provenance": [],
      "authorship_tag": "ABX9TyMlO6dy3diHbZ4neZ22jqrI",
      "include_colab_link": true
    },
    "kernelspec": {
      "name": "python3",
      "display_name": "Python 3"
    },
    "language_info": {
      "name": "python"
    }
  },
  "cells": [
    {
      "cell_type": "markdown",
      "metadata": {
        "id": "view-in-github",
        "colab_type": "text"
      },
      "source": [
        "<a href=\"https://colab.research.google.com/github/3335090/archivos-arduino/blob/circleci-project-setup/Copia_de_Untitled0.ipynb\" target=\"_parent\"><img src=\"https://colab.research.google.com/assets/colab-badge.svg\" alt=\"Open In Colab\"/></a>"
      ]
    },
    {
      "cell_type": "code",
      "metadata": {
        "id": "0G6RwgwwxWDS"
      },
      "source": [
        "import numpy as np\n",
        "import scipy as sc \n",
        "import matplotlib.pyplot as plt \n",
        "\n",
        "from sklearn.datasets import make_circles "
      ],
      "execution_count": null,
      "outputs": []
    },
    {
      "cell_type": "code",
      "metadata": {
        "colab": {
          "base_uri": "https://localhost:8080/",
          "height": 265
        },
        "id": "i6UK27aWx68T",
        "outputId": "9790da3b-c771-4c93-fc29-fb11c84fe09d"
      },
      "source": [
        "# CREAR EL DATASET \n",
        "\n",
        "n = 500\n",
        "p = 2\n",
        "X,Y= make_circles (n_samples=n, factor= 0.5, noise= 0.05)\n",
        "plt.scatter(X[Y==0,0], X[Y ==0,1], c = \"skyblue\")\n",
        "plt.scatter(X[Y==1,0], X[Y ==1,1], c = \"salmon\")\n",
        "plt.axis(\"equal\")\n",
        "plt.show()"
      ],
      "execution_count": null,
      "outputs": [
        {
          "output_type": "display_data",
          "data": {
            "image/png": "[encoded data removed]",
            "text/plain": [
              "<Figure size 432x288 with 1 Axes>"
            ]
          },
          "metadata": {
            "tags": [],
            "needs_background": "light"
          }
        }
      ]
    },
    {
      "cell_type": "code",
      "metadata": {
        "id": "bZ3m07P91trb"
      },
      "source": [
        "# CLASES DE CAPA DE LA RED\n",
        "class neural_layer():\n",
        "  def __init__(self, n_conn, n_neur, act_f):\n",
        "    self.act_f = act_f\n",
        "    self.b = np.random.rand(1, n_neur)*2-1\n",
        "    self.W = np.random.rand(n_conn, n_neur)*2-1\n",
        "    "
      ],
      "execution_count": null,
      "outputs": []
    },
    {
      "cell_type": "code",
      "metadata": {
        "colab": {
          "base_uri": "https://localhost:8080/",
          "height": 282
        },
        "id": "1yOnSOi33Ont",
        "outputId": "5b18ad30-31d7-4db0-c36c-b0309fbec911"
      },
      "source": [
        "# FUNCIONES DE ACTIVACION\n",
        "sign = (lambda x: 1 / (1 + np.e ** (-x)),\n",
        "       lambda x: x * (1 - x) )\n",
        "relu = lambda x: np.maximum(0,x)\n",
        "_x = np.linspace (-5,5.100)\n",
        "plt.plot (_x, relu (_x))\n",
        "\n"
      ],
      "execution_count": null,
      "outputs": [
        {
          "output_type": "execute_result",
          "data": {
            "text/plain": [
              "[<matplotlib.lines.Line2D at 0x7fdf16004050>]"
            ]
          },
          "metadata": {
            "tags": []
          },
          "execution_count": 47
        },
        {
          "output_type": "display_data",
          "data": {
            "image/png": "[encoded data removed]",
            "text/plain": [
              "<Figure size 432x288 with 1 Axes>"
            ]
          },
          "metadata": {
            "tags": [],
            "needs_background": "light"
          }
        }
      ]
    },
    {
      "cell_type": "code",
      "metadata": {
        "colab": {
          "base_uri": "https://localhost:8080/",
          "height": 128
        },
        "id": "6Kknjkuc64nz",
        "outputId": "9a250669-f39f-4831-d242-18eef91075cc"
      },
      "source": [
        "10 = neural_layer(p, 4, sigm)\n",
        "11 = neural_layer(4, 8, sigm)\n",
        "#...\n",
        "\n",
        "def create_nn(topology, act_f):\n",
        "  nn = [] \n",
        "\n",
        "  for 1, layer in enumerate(topology[:-1]): \n",
        "\n",
        "    nn.append (neural_layer(topology[1], topology[1+1], act_f))\n",
        "\n",
        "  return nn\n",
        "topology = [p,4,8,16,8,4,1]  # definir numero de neuronas. p = numero de neuronas pr\n",
        "create_nn(topology.sign) \n",
        "\n"
      ],
      "execution_count": null,
      "outputs": [
        {
          "output_type": "error",
          "ename": "SyntaxError",
          "evalue": "ignored",
          "traceback": [
            "\u001b[0;36m  File \u001b[0;32m\"<ipython-input-77-8aa5f4b721d3>\"\u001b[0;36m, line \u001b[0;32m1\u001b[0m\n\u001b[0;31m    10 = neural_layer(p, 4, sigm)\u001b[0m\n\u001b[0m                                 ^\u001b[0m\n\u001b[0;31mSyntaxError\u001b[0m\u001b[0;31m:\u001b[0m can't assign to literal\n"
          ]
        }
      ]
    }
  ]
}